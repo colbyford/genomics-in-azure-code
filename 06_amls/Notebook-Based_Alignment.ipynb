{
 "cells": [
  {
   "cell_type": "markdown",
   "id": "d972d5c6",
   "metadata": {},
   "source": [
    "# Notebook-based Alignment using Biopython"
   ]
  },
  {
   "cell_type": "markdown",
   "id": "e3d73705",
   "metadata": {},
   "source": [
    "## Install Biopython using pip"
   ]
  },
  {
   "cell_type": "code",
   "execution_count": 1,
   "id": "928e0950",
   "metadata": {},
   "outputs": [
    {
     "name": "stdout",
     "output_type": "stream",
     "text": [
      "Collecting biopython\n",
      "  Downloading biopython-1.79-cp36-cp36m-manylinux_2_5_x86_64.manylinux1_x86_64.whl (2.3 MB)\n",
      "\u001b[K     |████████████████████████████████| 2.3 MB 21.0 MB/s eta 0:00:01\n",
      "\u001b[?25hRequirement already satisfied: numpy in /anaconda/envs/azureml_py36/lib/python3.6/site-packages (from biopython) (1.18.5)\n",
      "Installing collected packages: biopython\n",
      "Successfully installed biopython-1.79\n"
     ]
    }
   ],
   "source": [
    "!pip install biopython"
   ]
  },
  {
   "cell_type": "markdown",
   "id": "8e31019a",
   "metadata": {},
   "source": [
    "## Install MUSCLE from BioConda"
   ]
  },
  {
   "cell_type": "code",
   "execution_count": 6,
   "id": "bea4ebc4",
   "metadata": {
    "scrolled": true
   },
   "outputs": [
    {
     "name": "stdout",
     "output_type": "stream",
     "text": [
      "Collecting package metadata (current_repodata.json): done\n",
      "Solving environment: | \n",
      "The environment is inconsistent, please check the package plan carefully\n",
      "The following packages are causing the inconsistency:\n",
      "\n",
      "  - conda-forge/noarch::lunardate==0.2.0=py_0\n",
      "  - conda-forge/linux-64::python_abi==3.6=2_cp36m\n",
      "  - anaconda/noarch::threadpoolctl==2.1.0=pyh5ca1d4c_0\n",
      "  - anaconda/linux-64::pip==20.1.1=py36_1\n",
      "  - defaults/linux-64::psycopg2==2.8.6=py36h3c74f83_1\n",
      "  - conda-forge/noarch::pygments==2.10.0=pyhd8ed1ab_0\n",
      "  - anaconda/linux-64::pyqt==5.9.2=py36h22d08a2_1\n",
      "  - anaconda/linux-64::ninja==1.10.1=py36hfd86e86_0\n",
      "  - anaconda/noarch::python-graphviz==0.14.2=py_0\n",
      "  - defaults/linux-64::pyodbc==4.0.31=py36h295c915_0\n",
      "  - anaconda/linux-64::setuptools-git==1.2=py36h28b3542_1\n",
      "  - anaconda/linux-64::mkl-service==2.3.0=py36he904b0f_0\n",
      "  - anaconda/linux-64::py-xgboost==0.90=py36he6710b0_1\n",
      "  - anaconda/linux-64::pandas==0.25.3=py36he6710b0_0\n",
      "  - anaconda/noarch::wheel==0.35.1=py_0\n",
      "  - anaconda/linux-64::olefile==0.46=py36_0\n",
      "  - anaconda/linux-64::python==3.6.9=h265db76_0\n",
      "  - conda-forge/linux-64::pytorch-cpu==1.1.0=py36he1b5a44_0\n",
      "  - anaconda/linux-64::mkl_random==1.1.0=py36hd6b4f25_0\n",
      "  - conda-forge/noarch::holidays==0.9.11=py_0\n",
      "  - conda-forge/linux-64::matplotlib==3.2.1=0\n",
      "  - defaults/linux-64::matplotlib-base==3.2.1=py36hef1b27d_0\n",
      "  - conda-forge/linux-64::fbprophet==0.5=py36he1b5a44_3\n",
      "  - anaconda/linux-64::sip==4.19.24=py36he6710b0_0\n",
      "  - anaconda/linux-64::pillow==8.0.0=py36h9a89aac_0\n",
      "  - conda-forge/linux-64::prompt_toolkit==2.0.2=py36_0\n",
      "  - conda-forge/noarch::wcwidth==0.2.5=pyh9f0ad1d_2\n",
      "  - conda-forge/noarch::backports.functools_lru_cache==1.6.4=pyhd8ed1ab_0\n",
      "  - conda-forge/noarch::backports==1.0=py_2\n",
      "  - anaconda/linux-64::pystan==2.19.0.0=py36h962f231_0\n",
      "  - conda-forge/noarch::convertdate==2.3.2=pyhd8ed1ab_0\n",
      "  - anaconda/linux-64::numpy==1.19.1=py36hbc911f0_0\n",
      "  - anaconda/linux-64::mkl_fft==1.2.0=py36h23d657b_0\n",
      "  - conda-forge/noarch::pymeeus==0.5.10=pyhd8ed1ab_0\n",
      "failed with initial frozen solve. Retrying with flexible solve.\n",
      "Solving environment: failed with repodata from current_repodata.json, will retry with next repodata source.\n",
      "Collecting package metadata (repodata.json): done\n",
      "Solving environment: | \n",
      "The environment is inconsistent, please check the package plan carefully\n",
      "The following packages are causing the inconsistency:\n",
      "\n",
      "  - conda-forge/noarch::lunardate==0.2.0=py_0\n",
      "  - conda-forge/linux-64::python_abi==3.6=2_cp36m\n",
      "  - anaconda/noarch::threadpoolctl==2.1.0=pyh5ca1d4c_0\n",
      "  - anaconda/linux-64::pip==20.1.1=py36_1\n",
      "  - defaults/linux-64::psycopg2==2.8.6=py36h3c74f83_1\n",
      "  - conda-forge/noarch::pygments==2.10.0=pyhd8ed1ab_0\n",
      "  - anaconda/linux-64::pyqt==5.9.2=py36h22d08a2_1\n",
      "  - anaconda/linux-64::ninja==1.10.1=py36hfd86e86_0\n",
      "  - anaconda/noarch::python-graphviz==0.14.2=py_0\n",
      "  - defaults/linux-64::pyodbc==4.0.31=py36h295c915_0\n",
      "  - anaconda/linux-64::setuptools-git==1.2=py36h28b3542_1\n",
      "  - anaconda/linux-64::mkl-service==2.3.0=py36he904b0f_0\n",
      "  - anaconda/linux-64::py-xgboost==0.90=py36he6710b0_1\n",
      "  - anaconda/linux-64::pandas==0.25.3=py36he6710b0_0\n",
      "  - anaconda/noarch::wheel==0.35.1=py_0\n",
      "  - anaconda/linux-64::olefile==0.46=py36_0\n",
      "  - anaconda/linux-64::python==3.6.9=h265db76_0\n",
      "  - conda-forge/linux-64::pytorch-cpu==1.1.0=py36he1b5a44_0\n",
      "  - anaconda/linux-64::mkl_random==1.1.0=py36hd6b4f25_0\n",
      "  - conda-forge/noarch::holidays==0.9.11=py_0\n",
      "  - conda-forge/linux-64::matplotlib==3.2.1=0\n",
      "  - defaults/linux-64::matplotlib-base==3.2.1=py36hef1b27d_0\n",
      "  - conda-forge/linux-64::fbprophet==0.5=py36he1b5a44_3\n",
      "  - anaconda/linux-64::sip==4.19.24=py36he6710b0_0\n",
      "  - anaconda/linux-64::pillow==8.0.0=py36h9a89aac_0\n",
      "  - conda-forge/linux-64::prompt_toolkit==2.0.2=py36_0\n",
      "  - conda-forge/noarch::wcwidth==0.2.5=pyh9f0ad1d_2\n",
      "  - conda-forge/noarch::backports.functools_lru_cache==1.6.4=pyhd8ed1ab_0\n",
      "  - conda-forge/noarch::backports==1.0=py_2\n",
      "  - anaconda/linux-64::pystan==2.19.0.0=py36h962f231_0\n",
      "  - conda-forge/noarch::convertdate==2.3.2=pyhd8ed1ab_0\n",
      "  - anaconda/linux-64::numpy==1.19.1=py36hbc911f0_0\n",
      "  - anaconda/linux-64::mkl_fft==1.2.0=py36h23d657b_0\n",
      "  - conda-forge/noarch::pymeeus==0.5.10=pyhd8ed1ab_0\n",
      "done\n",
      "\n",
      "\n",
      "==> WARNING: A newer version of conda exists. <==\n",
      "  current version: 4.11.0\n",
      "  latest version: 4.12.0\n",
      "\n",
      "Please update conda by running\n",
      "\n",
      "    $ conda update -n base -c defaults conda\n",
      "\n",
      "\n",
      "\n",
      "## Package Plan ##\n",
      "\n",
      "  environment location: /anaconda/envs/azureml_py36\n",
      "\n",
      "  added / updated specs:\n",
      "    - muscle\n",
      "\n",
      "\n",
      "The following packages will be downloaded:\n",
      "\n",
      "    package                    |            build\n",
      "    ---------------------------|-----------------\n",
      "    ca-certificates-2022.3.29  |       h06a4308_0         117 KB\n",
      "    certifi-2021.5.30          |   py36h06a4308_0         139 KB\n",
      "    cffi-1.14.6                |   py36h400218f_0         220 KB\n",
      "    cycler-0.11.0              |     pyhd3eb1b0_0          12 KB\n",
      "    cython-0.29.24             |   py36h295c915_0         1.9 MB\n",
      "    joblib-1.0.1               |     pyhd3eb1b0_0         208 KB\n",
      "    kiwisolver-1.3.1           |   py36h2531618_0          86 KB\n",
      "    muscle-3.8.1551            |       hc9558a2_5         280 KB  bioconda\n",
      "    numpy-base-1.19.1          |   py36hfa32c7d_0         4.1 MB\n",
      "    openssl-1.1.1n             |       h7f8727e_0         2.5 MB\n",
      "    pycparser-2.21             |     pyhd3eb1b0_0          94 KB\n",
      "    pyparsing-3.0.4            |     pyhd3eb1b0_0          81 KB\n",
      "    python-dateutil-2.8.2      |     pyhd3eb1b0_0         233 KB\n",
      "    pytz-2021.3                |     pyhd3eb1b0_0         171 KB\n",
      "    scikit-learn-0.24.2        |   py36ha9443f7_0         5.2 MB\n",
      "    scipy-1.5.2                |   py36h0b6359f_0        14.4 MB\n",
      "    setuptools-58.0.4          |   py36h06a4308_0         788 KB\n",
      "    six-1.16.0                 |     pyhd3eb1b0_1          18 KB\n",
      "    tornado-6.1                |   py36h27cfd23_0         581 KB\n",
      "    ------------------------------------------------------------\n",
      "                                           Total:        31.2 MB\n",
      "\n",
      "The following NEW packages will be INSTALLED:\n",
      "\n",
      "  certifi            pkgs/main/linux-64::certifi-2021.5.30-py36h06a4308_0\n",
      "  cffi               pkgs/main/linux-64::cffi-1.14.6-py36h400218f_0\n",
      "  cycler             pkgs/main/noarch::cycler-0.11.0-pyhd3eb1b0_0\n",
      "  cython             pkgs/main/linux-64::cython-0.29.24-py36h295c915_0\n",
      "  joblib             pkgs/main/noarch::joblib-1.0.1-pyhd3eb1b0_0\n",
      "  kiwisolver         pkgs/main/linux-64::kiwisolver-1.3.1-py36h2531618_0\n",
      "  muscle             bioconda/linux-64::muscle-3.8.1551-hc9558a2_5\n",
      "  numpy-base         pkgs/main/linux-64::numpy-base-1.19.1-py36hfa32c7d_0\n",
      "  pycparser          pkgs/main/noarch::pycparser-2.21-pyhd3eb1b0_0\n",
      "  pyparsing          pkgs/main/noarch::pyparsing-3.0.4-pyhd3eb1b0_0\n",
      "  python-dateutil    pkgs/main/noarch::python-dateutil-2.8.2-pyhd3eb1b0_0\n",
      "  pytz               pkgs/main/noarch::pytz-2021.3-pyhd3eb1b0_0\n",
      "  scikit-learn       pkgs/main/linux-64::scikit-learn-0.24.2-py36ha9443f7_0\n",
      "  scipy              pkgs/main/linux-64::scipy-1.5.2-py36h0b6359f_0\n",
      "  setuptools         pkgs/main/linux-64::setuptools-58.0.4-py36h06a4308_0\n",
      "  six                pkgs/main/noarch::six-1.16.0-pyhd3eb1b0_1\n",
      "  tornado            pkgs/main/linux-64::tornado-6.1-py36h27cfd23_0\n",
      "\n",
      "The following packages will be UPDATED:\n",
      "\n",
      "  ca-certificates    conda-forge::ca-certificates-2021.10.~ --> pkgs/main::ca-certificates-2022.3.29-h06a4308_0\n",
      "  openssl                                 1.1.1l-h7f8727e_0 --> 1.1.1n-h7f8727e_0\n",
      "\n",
      "\n",
      "\n",
      "Downloading and Extracting Packages\n",
      "scikit-learn-0.24.2  | 5.2 MB    | ##################################### | 100% \n",
      "scipy-1.5.2          | 14.4 MB   | ##################################### | 100% \n",
      "pyparsing-3.0.4      | 81 KB     | ##################################### | 100% \n",
      "cython-0.29.24       | 1.9 MB    | ##################################### | 100% \n",
      "numpy-base-1.19.1    | 4.1 MB    | ##################################### | 100% \n",
      "pytz-2021.3          | 171 KB    | ##################################### | 100% \n",
      "python-dateutil-2.8. | 233 KB    | ##################################### | 100% \n",
      "kiwisolver-1.3.1     | 86 KB     | ##################################### | 100% \n",
      "openssl-1.1.1n       | 2.5 MB    | ##################################### | 100% \n",
      "joblib-1.0.1         | 208 KB    | ##################################### | 100% \n",
      "six-1.16.0           | 18 KB     | ##################################### | 100% \n",
      "ca-certificates-2022 | 117 KB    | ##################################### | 100% \n",
      "setuptools-58.0.4    | 788 KB    | ##################################### | 100% \n",
      "muscle-3.8.1551      | 280 KB    | ##################################### | 100% \n",
      "certifi-2021.5.30    | 139 KB    | ##################################### | 100% \n",
      "cycler-0.11.0        | 12 KB     | ##################################### | 100% \n",
      "pycparser-2.21       | 94 KB     | ##################################### | 100% \n",
      "cffi-1.14.6          | 220 KB    | ##################################### | 100% \n",
      "tornado-6.1          | 581 KB    | ##################################### | 100% \n",
      "Preparing transaction: done\n",
      "Verifying transaction: done\n",
      "Executing transaction: / \n",
      "\n",
      "    Installed package of scikit-learn can be accelerated using scikit-learn-intelex.\n",
      "    More details are available here: https://intel.github.io/scikit-learn-intelex\n",
      "\n",
      "    For example:\n",
      "\n",
      "        $ conda install scikit-learn-intelex\n",
      "        $ python -m sklearnex my_application.py\n",
      "\n",
      "    \n",
      "\n",
      "done\n",
      "\n",
      "Note: you may need to restart the kernel to use updated packages.\n"
     ]
    }
   ],
   "source": [
    "conda install -c bioconda muscle"
   ]
  },
  {
   "cell_type": "markdown",
   "id": "71812566",
   "metadata": {},
   "source": [
    "## Align multiple Grain 28S rRNA Sequences"
   ]
  },
  {
   "cell_type": "code",
   "execution_count": 8,
   "id": "d55fbc40",
   "metadata": {},
   "outputs": [
    {
     "data": {
      "text/plain": [
       "('',\n",
       " '\\nMUSCLE v3.8.1551 by Robert C. Edgar\\n\\nhttp://www.drive5.com/muscle\\nThis software is donated to the public domain.\\nPlease cite: Edgar, R.C. Nucleic Acids Res 32(5), 1792-97.\\n\\ngrain_28s_rRNA 5 seqs, lengths min 668, max 1467, avg 1093\\n00:00:00    19 MB(-2%)  Iter   1    6.67%  K-mer dist pass 1\\n00:00:00    19 MB(-2%)  Iter   1  100.00%  K-mer dist pass 1\\n00:00:00    19 MB(-2%)  Iter   1    6.67%  K-mer dist pass 2\\n00:00:00    19 MB(-2%)  Iter   1  100.00%  K-mer dist pass 2\\n00:00:00    20 MB(-3%)  Iter   1   25.00%  Align node       \\n00:00:00    27 MB(-3%)  Iter   1   50.00%  Align node\\n00:00:00    28 MB(-4%)  Iter   1   75.00%  Align node\\n00:00:00    28 MB(-4%)  Iter   1  100.00%  Align node\\n00:00:00    29 MB(-4%)  Iter   1  100.00%  Align node\\n00:00:00    29 MB(-4%)  Iter   1   20.00%  Root alignment\\n00:00:00    29 MB(-4%)  Iter   1   40.00%  Root alignment\\n00:00:00    29 MB(-4%)  Iter   1   60.00%  Root alignment\\n00:00:00    29 MB(-4%)  Iter   1   80.00%  Root alignment\\n00:00:00    29 MB(-4%)  Iter   1  100.00%  Root alignment\\n00:00:00    29 MB(-4%)  Iter   1  100.00%  Root alignment\\n')"
      ]
     },
     "execution_count": 8,
     "metadata": {},
     "output_type": "execute_result"
    }
   ],
   "source": [
    "from Bio.Align.Applications import MuscleCommandline\n",
    "\n",
    "muscle_cmd = MuscleCommandline(input=\"grain_28s_rRNA.fasta\", \n",
    "                               out=\"grain_28s_rRNA_aligned.fasta\", \n",
    "                               diags = True, \n",
    "                               maxiters = 1, \n",
    "                               log=\"muscle_log.txt\")\n",
    "muscle_cmd()"
   ]
  }
 ],
 "metadata": {
  "kernelspec": {
   "display_name": "Python 3.6 - AzureML",
   "language": "python",
   "name": "python3-azureml"
  },
  "language_info": {
   "codemirror_mode": {
    "name": "ipython",
    "version": 3
   },
   "file_extension": ".py",
   "mimetype": "text/x-python",
   "name": "python",
   "nbconvert_exporter": "python",
   "pygments_lexer": "ipython3",
   "version": "3.6.9"
  }
 },
 "nbformat": 4,
 "nbformat_minor": 5
}
